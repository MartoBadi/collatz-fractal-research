{
 "cells": [
  {
   "cell_type": "code",
   "execution_count": null,
   "metadata": {},
   "outputs": [
    {
     "data": {
      "text/plain": [
       "'\\n# Collatz Fractal Structure - Basic Usage\\n\\n## Import and initialize\\nfrom src.collatz_analyzer import CollatzInvestigator\\n\\ninvestigator = CollatzInvestigator()\\n\\n## Identify embudos\\nembudos = investigator.identificar_embudos(max_range=100000)\\nprint(f\"Found {len(embudos)} embudos\")\\n\\n## Analyze connectivity\\nconexiones = investigator.analizar_conectividad(embudos)\\n\\n## Analyze modular distribution\\ndistribucion = investigator.analizar_distribucion_modular(embudos)\\n\\n## Save results\\ninvestigator.guardar_resultados()\\n\\nprint(\"✅ Analysis complete!\")\\n'"
      ]
     },
     "execution_count": 1,
     "metadata": {},
     "output_type": "execute_result"
    }
   ],
   "source": [
    "# Jupyter Notebook content (simplified)\n",
    "\"\"\"\n",
    "# Collatz Fractal Structure - Basic Usage\n",
    "\n",
    "## Import and initialize\n",
    "from src.collatz_analyzer import CollatzInvestigator\n",
    "\n",
    "investigator = CollatzInvestigator()\n",
    "\n",
    "## Identify funnels\n",
    "funnels = investigator.identify_funnels(max_range=100000)\n",
    "print(f\"Found {len(funnels)} funnels\")\n",
    "\n",
    "## Analyze connectivity\n",
    "connections = investigator.analyze_connectivity(funnels)\n",
    "\n",
    "## Analyze modular distribution\n",
    "distribution = investigator.analyze_modular_distribution(funnels)\n",
    "\n",
    "## Save results\n",
    "investigator.save_results()\n",
    "\n",
    "print(\"✅ Analysis complete!\")\n",
    "\"\"\""
   ]
  }
 ],
 "metadata": {
  "kernelspec": {
   "display_name": "Python 3",
   "language": "python",
   "name": "python3"
  },
  "language_info": {
   "codemirror_mode": {
    "name": "ipython",
    "version": 3
   },
   "file_extension": ".py",
   "mimetype": "text/x-python",
   "name": "python",
   "nbconvert_exporter": "python",
   "pygments_lexer": "ipython3",
   "version": "3.13.7"
  }
 },
 "nbformat": 4,
 "nbformat_minor": 5
}
